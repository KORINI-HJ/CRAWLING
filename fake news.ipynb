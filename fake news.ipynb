{
  "nbformat": 4,
  "nbformat_minor": 0,
  "metadata": {
    "colab": {
      "name": "가짜뉴스 크롤러.ipynb",
      "provenance": [],
      "collapsed_sections": [],
      "toc_visible": true
    },
    "kernelspec": {
      "name": "python3",
      "display_name": "Python 3"
    }
  },
  "cells": [
    {
      "cell_type": "code",
      "metadata": {
        "id": "CXloaEHCYdza",
        "colab_type": "code",
        "outputId": "2c27427b-9794-4f21-b559-e86f4a014624",
        "colab": {
          "base_uri": "https://localhost:8080/",
          "height": 197
        }
      },
      "source": [
        "pip install KoreaNewsCrawler"
      ],
      "execution_count": 0,
      "outputs": [
        {
          "output_type": "stream",
          "text": [
            "Collecting KoreaNewsCrawler\n",
            "  Downloading https://files.pythonhosted.org/packages/33/94/d42491cfe78a0b2496658ec0a80ee68844bc56f9a946949b8863986e914c/KoreaNewsCrawler-1.41-py3-none-any.whl\n",
            "Requirement already satisfied: beautifulsoup4 in /usr/local/lib/python3.6/dist-packages (from KoreaNewsCrawler) (4.6.3)\n",
            "Requirement already satisfied: requests in /usr/local/lib/python3.6/dist-packages (from KoreaNewsCrawler) (2.21.0)\n",
            "Requirement already satisfied: certifi>=2017.4.17 in /usr/local/lib/python3.6/dist-packages (from requests->KoreaNewsCrawler) (2019.11.28)\n",
            "Requirement already satisfied: idna<2.9,>=2.5 in /usr/local/lib/python3.6/dist-packages (from requests->KoreaNewsCrawler) (2.8)\n",
            "Requirement already satisfied: chardet<3.1.0,>=3.0.2 in /usr/local/lib/python3.6/dist-packages (from requests->KoreaNewsCrawler) (3.0.4)\n",
            "Requirement already satisfied: urllib3<1.25,>=1.21.1 in /usr/local/lib/python3.6/dist-packages (from requests->KoreaNewsCrawler) (1.24.3)\n",
            "Installing collected packages: KoreaNewsCrawler\n",
            "Successfully installed KoreaNewsCrawler-1.41\n"
          ],
          "name": "stdout"
        }
      ]
    },
    {
      "cell_type": "code",
      "metadata": {
        "id": "zxKcj4L8YhKV",
        "colab_type": "code",
        "outputId": "0e1d0c76-e9bb-4ac1-95bd-690cbbc6b566",
        "colab": {
          "base_uri": "https://localhost:8080/",
          "height": 53
        }
      },
      "source": [
        "from korea_news_crawler.articlecrawler import ArticleCrawler\n",
        "\n",
        "Crawler = ArticleCrawler()  \n",
        "Crawler.set_category(\"정치\")  \n",
        "Crawler.set_date_range(2018, 4, 2018, 7)  \n",
        "Crawler.start()"
      ],
      "execution_count": 0,
      "outputs": [
        {
          "output_type": "stream",
          "text": [
            "{'start_year': 2018, 'start_month': 4, 'end_year': 2018, 'end_month': 7}\n",
            "정치 PID: 170\n"
          ],
          "name": "stdout"
        }
      ]
    },
    {
      "cell_type": "code",
      "metadata": {
        "id": "DcDXKPIiaG6t",
        "colab_type": "code",
        "outputId": "025fd162-0fd2-4480-cbe6-6f704eb2f369",
        "colab": {
          "base_uri": "https://localhost:8080/",
          "height": 53
        }
      },
      "source": [
        "from korea_news_crawler.articlecrawler import ArticleCrawler\n",
        "\n",
        "Crawler = ArticleCrawler()  \n",
        "Crawler.set_category(\"정치\")  \n",
        "Crawler.set_date_range(2018, 8, 2018, 10)  \n",
        "Crawler.start()"
      ],
      "execution_count": 0,
      "outputs": [
        {
          "output_type": "stream",
          "text": [
            "{'start_year': 2018, 'start_month': 8, 'end_year': 2018, 'end_month': 10}\n",
            "정치 PID: 201\n"
          ],
          "name": "stdout"
        }
      ]
    },
    {
      "cell_type": "code",
      "metadata": {
        "id": "kjEHWvmXabrg",
        "colab_type": "code",
        "outputId": "17334239-d4d5-4c2a-8c9a-69fecee46027",
        "colab": {
          "base_uri": "https://localhost:8080/",
          "height": 89
        }
      },
      "source": [
        "from korea_news_crawler.articlecrawler import ArticleCrawler\n",
        "\n",
        "Crawler = ArticleCrawler()  \n",
        "Crawler.set_category(\"정치\", \"IT과학\", \"economy\")  \n",
        "Crawler.set_date_range(2017, 1, 2018, 4)  \n",
        "Crawler.start()"
      ],
      "execution_count": 0,
      "outputs": [
        {
          "output_type": "stream",
          "text": [
            "{'start_year': 2017, 'start_month': 1, 'end_year': 2018, 'end_month': 4}\n",
            "정치 PID: 220\n",
            "IT과학 PID: 223\n",
            "economy PID: 225\n"
          ],
          "name": "stdout"
        }
      ]
    },
    {
      "cell_type": "code",
      "metadata": {
        "id": "OJmYrqqEaqgS",
        "colab_type": "code",
        "colab": {}
      },
      "source": [
        ""
      ],
      "execution_count": 0,
      "outputs": []
    }
  ]
}
